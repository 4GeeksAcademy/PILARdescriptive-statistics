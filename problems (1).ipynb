{
    "cells": [
        {
            "cell_type": "markdown",
            "id": "ac622319",
            "metadata": {},
            "source": [
                "# Descriptive statistics problems"
            ]
        },
        {
            "cell_type": "markdown",
            "id": "5e0ab0d5",
            "metadata": {},
            "source": [
                "### Exercise 1\n",
                "\n",
                "We will use NumPy to obtain information to describe statistically.\n",
                "\n",
                "- Generate an array of 100 elements following a normal distribution.\n",
                "- Generate an array of 100 elements following a chi-square distribution with 3 degrees of freedom.\n",
                "- Calculate the main metrics and statistical measures that best describe the two vectors."
            ]
        },
        {
            "cell_type": "code",
            "execution_count": 1,
            "id": "34720ab6",
            "metadata": {},
            "outputs": [
                {
                    "name": "stdout",
                    "output_type": "stream",
                    "text": [
                        "Descripción del array normal:\n",
                        "mean: 0.0890632315126244\n",
                        "median: 0.17354564867848443\n",
                        "std_dev: 0.956887532809278\n",
                        "variance: 0.915633750445827\n",
                        "min: -2.8320336993214563\n",
                        "max: 2.2372366774962162\n",
                        "q1: -0.6500996763509292\n",
                        "q3: 0.8088046333468267\n"
                    ]
                }
            ],
            "source": [
                "# TODO\n",
                "import numpy as np\n",
                "\n",
                "# Generar un array de 100 elementos siguiendo una distribución normal\n",
                "normal_array = np.random.normal(loc=0, scale=1, size=100)\n",
                "\n",
                "# Generar un array de 100 elementos siguiendo una distribución chi-cuadrado con 3 grados de libertad\n",
                "chi_square_array = np.random.chisquare(df=3, size=100)\n",
                "\n",
                "# Calcular las principales métricas y medidas estadísticas\n",
                "def describe_array(array):\n",
                "    mean = np.mean(array)\n",
                "    median = np.median(array)\n",
                "    std_dev = np.std(array)\n",
                "    variance = np.var(array)\n",
                "    min_value = np.min(array)\n",
                "    max_value = np.max(array)\n",
                "    q1 = np.percentile(array, 25)\n",
                "    q3 = np.percentile(array, 75)\n",
                "    \n",
                "    return {\n",
                "        'mean': mean,\n",
                "        'median': median,\n",
                "        'std_dev': std_dev,\n",
                "        'variance': variance,\n",
                "        'min': min_value,\n",
                "        'max': max_value,\n",
                "        'q1': q1,\n",
                "        'q3': q3\n",
                "    }\n",
                "\n",
                "# Describir los dos vectores\n",
                "normal_description = describe_array(normal_array)\n",
                "chi_square_description = describe_array(chi_square_array)\n",
                "\n",
                "print(\"Descripción del array normal:\")\n",
                "for key, value in normal_description.items():\n",
                "    print(f\"{key}: {value}\")\n"
            ]
        },
        {
            "cell_type": "markdown",
            "id": "46c70c3d",
            "metadata": {},
            "source": [
                "### Exercise 2\n",
                "\n",
                "Write a Python program to calculate the standard deviation of the following data:\n",
                "\n",
                "```py\n",
                "data = [4, 2, 5, 8, 6]\n",
                "```"
            ]
        },
        {
            "cell_type": "code",
            "execution_count": 3,
            "id": "d590308e",
            "metadata": {},
            "outputs": [
                {
                    "name": "stdout",
                    "output_type": "stream",
                    "text": [
                        "La desviación estándar de los datos es: 2.0\n"
                    ]
                }
            ],
            "source": [
                "# TODO\n",
                "import numpy as np\n",
                "\n",
                "# Datos proporcionados\n",
                "data = [4, 2, 5, 8, 6]\n",
                "\n",
                "# Calcular la desviación estándar\n",
                "std_dev = np.std(data)\n",
                "\n",
                "print(f\"La desviación estándar de los datos es: {std_dev}\")\n"
            ]
        }
    ],
    "metadata": {
        "kernelspec": {
            "display_name": "Python 3",
            "language": "python",
            "name": "python3"
        },
        "language_info": {
            "codemirror_mode": {
                "name": "ipython",
                "version": 3
            },
            "file_extension": ".py",
            "mimetype": "text/x-python",
            "name": "python",
            "nbconvert_exporter": "python",
            "pygments_lexer": "ipython3",
            "version": "3.11.4"
        }
    },
    "nbformat": 4,
    "nbformat_minor": 5
}
